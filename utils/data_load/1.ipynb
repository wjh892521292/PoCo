{
 "cells": [
  {
   "cell_type": "code",
   "execution_count": 3,
   "metadata": {},
   "outputs": [
    {
     "name": "stdout",
     "output_type": "stream",
     "text": [
      "['CB755_FWJ_OS/03410856_20200427_112727_DC4Image_L_001.tif', '3']\n",
      "430\n",
      "['CA862_ZRF_OD/02166658_20191106_160513_DC4Image_R_001.tif', '6']\n",
      "430\n",
      "['CB580_WXZ_OS/12251429_20200113_110728_DC4Image_L_001.tif', '4']\n",
      "430\n",
      "['CA298_SLZ_OD/03714146_20191015_105435_DC4Image_R_001.tif', '3']\n",
      "430\n",
      "['CA424_DLQ_OS/12067654_20191016_155900_DC4Image_L_001.tif', '6']\n",
      "430\n",
      "<PIL.Image.Image image mode=RGB size=2576x1934 at 0x7F835C505FD0> 6\n",
      "(<PIL.Image.Image image mode=RGB size=2576x1934 at 0x7F835C505FD0>, 6)\n"
     ]
    }
   ],
   "source": [
    "\n",
    "import torch\n",
    "import torch.utils.data as data_utils\n",
    "import numpy as np\n",
    "import os\n",
    "from PIL import Image, ImageDraw\n",
    "import cv2\n",
    "from xpinyin import Pinyin\n",
    "from PIL import Image\n",
    "import copy\n",
    "import pandas as pd\n",
    "import csv\n",
    "import random\n",
    "\n",
    "\n",
    "class MyDataset(data_utils.Dataset):\n",
    "\n",
    "    def __init__(self, img_root, data_root, dataset, transform=None, fold=3):\n",
    "        self.data_list = []\n",
    "        self.items = []\n",
    "        self.transform = transform\n",
    "\n",
    "        if dataset == 'train':\n",
    "            data_num = [i for i in range(5) if i != fold]\n",
    "        elif dataset == 'valid':\n",
    "            data_num = [fold]\n",
    "\n",
    "\n",
    "        f = open('/data/hhp/dataset/cataract_zs/Standardized_data/C_all_data.csv', \"r\")\n",
    "        reader = csv.reader(f)\n",
    "        for i, row in enumerate(reader):\n",
    "            if i%5 in data_num:\n",
    "                self.items.append(row)\n",
    "    \n",
    "        print(self.items[0])\n",
    "      \n",
    "\n",
    "    def __getitem__(self, idx):\n",
    "        item = copy.deepcopy(self.items[idx])\n",
    "        img = item[0]\n",
    "        label = int(item[1])\n",
    "        img_path = '/data/hhp/dataset/cataract_zs/Standardized_data/image_data/' + img\n",
    "        img = Image.open(img_path).convert('RGB')\n",
    "        \n",
    "        img.show()\n",
    "\n",
    "        if self.transform:\n",
    "            img = self.transform(img)\n",
    "\n",
    "        print(img, label)\n",
    "        return img, label  \n",
    "\n",
    "    def __len__(self):\n",
    "        return len(self.items)\n",
    "\n",
    "if __name__ == '__main__':\n",
    "    for fold in range(5):\n",
    "        d = MyDataset(None,None,'valid',fold=fold)\n",
    "        print(len(d))\n",
    "        \n",
    "    print(d[0])"
   ]
  },
  {
   "cell_type": "code",
   "execution_count": null,
   "metadata": {},
   "outputs": [],
   "source": []
  }
 ],
 "metadata": {
  "kernelspec": {
   "display_name": "3090",
   "language": "python",
   "name": "python3"
  },
  "language_info": {
   "codemirror_mode": {
    "name": "ipython",
    "version": 3
   },
   "file_extension": ".py",
   "mimetype": "text/x-python",
   "name": "python",
   "nbconvert_exporter": "python",
   "pygments_lexer": "ipython3",
   "version": "3.8.5"
  },
  "orig_nbformat": 4,
  "vscode": {
   "interpreter": {
    "hash": "3f3d6b5f7328069cce1939c00ef55441410b7535feff772d16b9b2cdb6e54a2b"
   }
  }
 },
 "nbformat": 4,
 "nbformat_minor": 2
}
